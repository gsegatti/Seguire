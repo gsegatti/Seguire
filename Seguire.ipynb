{
 "cells": [
  {
   "cell_type": "code",
   "execution_count": 1,
   "metadata": {},
   "outputs": [],
   "source": [
    "def CountLines(GoodOrBad):\n",
    "    \n",
    "    filepath = \"/home/gabriel/Documentos/Seguire/\"\n",
    "    if(GoodOrBad == 'good'):\n",
    "        filepath += 'good.txt'\n",
    "    else:\n",
    "        filepath += 'bad.txt'\n",
    "    \n",
    "    with open(filepath) as file:\n",
    "        count = 0\n",
    "        for line in file:\n",
    "            count += 1\n",
    "            \n",
    "    return count"
   ]
  },
  {
   "cell_type": "code",
   "execution_count": 2,
   "metadata": {},
   "outputs": [],
   "source": [
    "def Init():\n",
    "    \n",
    "    rows = []\n",
    "    column = []\n",
    "    filepath = \"/home/gabriel/Documentos/Seguire/\"\n",
    "    \n",
    "    with open(filepath + 'good.txt') as file:\n",
    "        for line in file:\n",
    "            column = []\n",
    "            for i in range(0, 2):\n",
    "                if i == 0:\n",
    "                    column.append(line.strip('\\n'))\n",
    "                else:\n",
    "                    column.append('good')\n",
    "            rows.append(column)\n",
    "            \n",
    "    with open(filepath + 'bad.txt') as file:\n",
    "        for line in file:\n",
    "            column = []\n",
    "            for i in range(0, 2):\n",
    "                if i == 0:\n",
    "                    column.append(line.strip('\\n'))\n",
    "                else:\n",
    "                    column.append('bad')\n",
    "            rows.append(column)\n",
    "    \n",
    "    return rows"
   ]
  },
  {
   "cell_type": "code",
   "execution_count": 12,
   "metadata": {},
   "outputs": [],
   "source": [
    "from sklearn.feature_extraction.text import CountVectorizer\n",
    "\n",
    "def ComputeTDM(GoodOrBad, training_data):\n",
    "    docs = [row['term'] for index,row in training_data.iterrows() if row['class'] == GoodOrBad]\n",
    "    \n",
    "    vec = CountVectorizer()\n",
    "    X = vec.fit_transform(docs)\n",
    "    tdm = pd.DataFrame(X.toarray(), columns=vec.get_feature_names())\n",
    "    \n",
    "    return (tdm, X, vec)"
   ]
  },
  {
   "cell_type": "code",
   "execution_count": 15,
   "metadata": {},
   "outputs": [],
   "source": [
    "#LaPlace smoothing\n",
    "from sklearn.feature_extraction.text import CountVectorizer\n",
    "\n",
    "def ComputeTotal(training_data):\n",
    "    docs = [row['term'] for index,row in training_data.iterrows()]\n",
    "\n",
    "    vec = CountVectorizer()\n",
    "    X = vec.fit_transform(docs)\n",
    "    \n",
    "    total_features = len(vec.get_feature_names())\n",
    "    return total_features"
   ]
  },
  {
   "cell_type": "code",
   "execution_count": 5,
   "metadata": {},
   "outputs": [],
   "source": [
    "def ComputeFreq(vec, X):\n",
    "    word_list = vec.get_feature_names();    \n",
    "    count_list = X.toarray().sum(axis=0) \n",
    "    freq_s = dict(zip(word_list,count_list))\n",
    "    return freq_s, word_list, count_list\n"
   ]
  },
  {
   "cell_type": "code",
   "execution_count": 6,
   "metadata": {},
   "outputs": [],
   "source": [
    "def Prob(tags, freq, total_count_feat, total_feat):\n",
    "    prob = []\n",
    "    for tag in tags:\n",
    "        if tag in freq.keys():\n",
    "            count = freq[tag]\n",
    "        else:\n",
    "            count = 0\n",
    "        prob.append((count + 1)/(total_count_feat + total_feat))\n",
    "        \n",
    "    return dict(zip(tags,prob))"
   ]
  },
  {
   "cell_type": "code",
   "execution_count": 16,
   "metadata": {
    "scrolled": true
   },
   "outputs": [],
   "source": [
    "import pandas as pd\n",
    "import import_ipynb\n",
    "import tmblr\n",
    "\n",
    "def Training(tags):\n",
    "    if not tags:\n",
    "        return False\n",
    "    \n",
    "    rows = Init()\n",
    "    columns = ['term', 'class']\n",
    "\n",
    "    training_data = pd.DataFrame(rows, columns=columns)\n",
    "\n",
    "    tdm_g, X_g, vec_g = ComputeTDM('good', training_data)\n",
    "    tdm_b, X_b, vec_b = ComputeTDM('bad', training_data)\n",
    "\n",
    "    freq_g, word_list_g, count_list_g = ComputeFreq(vec_g, X_g)\n",
    "    freq_b, word_list_b, count_list_b = ComputeFreq(vec_b, X_b)\n",
    "\n",
    "    prob_g = []\n",
    "    for count in count_list_g:\n",
    "        prob_g.append(count/len(word_list_g))\n",
    "    #dict(zip(word_list_g, prob_g))\n",
    "\n",
    "    prob_b = []\n",
    "    for count in count_list_b:\n",
    "        prob_b.append(count/len(word_list_b))\n",
    "    #dict(zip(word_list_b, prob_b))\n",
    "\n",
    "    total_feat = ComputeTotal(training_data)\n",
    "    total_cnt_feat_g = count_list_g.sum(axis=0)\n",
    "    total_cnt_feat_b = count_list_b.sum(axis=0)\n",
    "\n",
    "    dg = Prob(tags, freq_g, total_cnt_feat_g, total_feat)\n",
    "    db = Prob(tags, freq_b, total_cnt_feat_b, total_feat)\n",
    "\n",
    "\n",
    "    lineG = CountLines('good')\n",
    "    lineB = CountLines('bad')\n",
    "    mult=1\n",
    "    for tag in tags:\n",
    "        mult *= dg[tag]\n",
    "    good = mult * (lineG/(lineG+lineB))\n",
    "\n",
    "    mult = 1\n",
    "    for tag in tags:\n",
    "        mult *= db[tag]\n",
    "    bad = mult * (lineB/(lineG+lineB))\n",
    "\n",
    "    print (str(good) + ' x ' + str(bad))\n",
    "\n",
    "    if good > bad:\n",
    "        return True\n",
    "    else:\n",
    "        return False"
   ]
  },
  {
   "cell_type": "code",
   "execution_count": 18,
   "metadata": {},
   "outputs": [
    {
     "name": "stdout",
     "output_type": "stream",
     "text": [
      "4.296914385779572e-06 x 1.0057463929705642e-05\n"
     ]
    },
    {
     "data": {
      "text/plain": [
       "False"
      ]
     },
     "execution_count": 18,
     "metadata": {},
     "output_type": "execute_result"
    }
   ],
   "source": [
    "Training(['me','hi'])"
   ]
  }
 ],
 "metadata": {
  "kernelspec": {
   "display_name": "Python 3",
   "language": "python",
   "name": "python3"
  },
  "language_info": {
   "codemirror_mode": {
    "name": "ipython",
    "version": 3
   },
   "file_extension": ".py",
   "mimetype": "text/x-python",
   "name": "python",
   "nbconvert_exporter": "python",
   "pygments_lexer": "ipython3",
   "version": "3.7.6"
  }
 },
 "nbformat": 4,
 "nbformat_minor": 4
}
