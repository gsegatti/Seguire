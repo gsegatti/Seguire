{
 "cells": [
  {
   "cell_type": "code",
   "execution_count": 11,
   "metadata": {},
   "outputs": [],
   "source": [
    "def GoodWord(index):\n",
    "    filepath = \"/home/gabriel/Documentos/Seguire/good.txt\"\n",
    "    with open(filepath) as file:\n",
    "        count = 0\n",
    "        for line in file:\n",
    "            if(count == index):\n",
    "                return line\n",
    "            else:\n",
    "                count += 1"
   ]
  },
  {
   "cell_type": "code",
   "execution_count": 12,
   "metadata": {},
   "outputs": [],
   "source": [
    "def CountLines(GoodOrBad):\n",
    "    \n",
    "    filepath = \"/home/gabriel/Documentos/Seguire/\"\n",
    "    if(GoodOrBad == 'good'):\n",
    "        filepath += 'good.txt'\n",
    "    else:\n",
    "        filepath += 'bad.txt'\n",
    "    \n",
    "    with open(filepath) as file:\n",
    "        count = 0\n",
    "        for line in file:\n",
    "            count += 1\n",
    "            \n",
    "    return count"
   ]
  },
  {
   "cell_type": "code",
   "execution_count": 13,
   "metadata": {},
   "outputs": [],
   "source": [
    "import datetime as dt\n",
    "\n",
    "def CheckDate(year, month, day):\n",
    "    correctDate = None\n",
    "    try:\n",
    "        newDate = dt.datetime(year, month, day)\n",
    "        correctDate = True\n",
    "    except ValueError:\n",
    "        correctDate = False\n",
    "    return correctDate"
   ]
  },
  {
   "cell_type": "code",
   "execution_count": 14,
   "metadata": {},
   "outputs": [],
   "source": [
    "import random\n",
    "import datetime as dt\n",
    "\n",
    "def ItemNTimestamp():\n",
    "    count = CountLines('good') - 1           #count number of lines, 0-indexed\n",
    "    Nth = (random.randint(0, count))   #get a random number between number of lines\n",
    "    item = GoodWord(Nth)\n",
    "\n",
    "    #generate random month and year\n",
    "    day = month = year = 0\n",
    "    while(CheckDate(year, day, month) is False):\n",
    "        day = (random.randint(1, 31))\n",
    "        month = (random.randint(1, 12)) \n",
    "        year = (random.randint(14, 20))\n",
    "        CheckDate(year, month, day)\n",
    "\n",
    "    #convert generated date to datetime and get timestamp\n",
    "    datetime_str = str(month) + '/' + str(day) + '/' + str(year)\n",
    "    datetime_object = dt.datetime.strptime(datetime_str, '%m/%d/%y')\n",
    "\n",
    "    if datetime_object > dt.datetime.now():\n",
    "        datetime_object = dt.datetime.now()   \n",
    "    timestamp = int(dt.datetime.timestamp(datetime_object))\n",
    "\n",
    "    return item, timestamp\n",
    "\n",
    "#precisa ter o campo \"photos no json\"\n",
    "#TYPE = PHOTO"
   ]
  },
  {
   "cell_type": "code",
   "execution_count": 15,
   "metadata": {},
   "outputs": [],
   "source": [
    "def GetUrl():\n",
    "    item, timestamp = ItemNTimestamp()\n",
    "    item = item.strip('\\n')\n",
    "    limit = '1'\n",
    "\n",
    "    key = 'api_key=V1ljqZjlhuHqlt4DtC4LeJm5izcBZWdDVbmrUYIgyWpwJrvfHB'\n",
    "    url = 'http://api.tumblr.com/v2/tagged?tag=' + item + '&before=' + str(timestamp) + '&limit=' + limit\n",
    "    url += '&' + key\n",
    "\n",
    "    #req_url = 'http://api.tumblr.com/v2/tagged?tag=alexturner&limit=1&api_key=V1ljqZjlhuHqlt4DtC4LeJm5izcBZWdDVbmrUYIgyWpwJrvfHB'\n",
    "    #tumblr_response = requests.get(req_url).json()\n",
    "\n",
    "    return url, item"
   ]
  },
  {
   "cell_type": "code",
   "execution_count": 2,
   "metadata": {
    "scrolled": true
   },
   "outputs": [],
   "source": [
    "import requests\n",
    "import json\n",
    "\n",
    "def returnResponse():\n",
    "    response = None\n",
    "\n",
    "    while not response:  \n",
    "        url, item = GetUrl()\n",
    "        #url = 'http://api.tumblr.com/v2/taged?tag=alexturner&limit=1&api_key=V1ljqZjlhuHqlt4DtC4LeJm5izcBZWdDVbmrUYIgyWpwJrvfHB'\n",
    "\n",
    "\n",
    "        response = requests.get(url).json()\n",
    "        if not response['response']:\n",
    "            response = None\n",
    "        elif response['response'][0]['type'] != 'photo':\n",
    "            response = None\n",
    "        else:\n",
    "            response['response'][0]\n",
    "\n",
    "    #print (url)        \n",
    "    return (response['response'][0], item, url)"
   ]
  },
  {
   "cell_type": "code",
   "execution_count": 17,
   "metadata": {},
   "outputs": [],
   "source": [
    "def parseTags(tags): #tranformar em minusculo, sem espacos\n",
    "    res = []\n",
    "    \n",
    "    for tag in tags:\n",
    "        temp = tag.lower()\n",
    "        temp = temp.replace(\" \", \"\")\n",
    "        res.append(temp)\n",
    "    return res"
   ]
  }
 ],
 "metadata": {
  "kernelspec": {
   "display_name": "Python 3",
   "language": "python",
   "name": "python3"
  },
  "language_info": {
   "codemirror_mode": {
    "name": "ipython",
    "version": 3
   },
   "file_extension": ".py",
   "mimetype": "text/x-python",
   "name": "python",
   "nbconvert_exporter": "python",
   "pygments_lexer": "ipython3",
   "version": "3.7.6"
  }
 },
 "nbformat": 4,
 "nbformat_minor": 4
}
